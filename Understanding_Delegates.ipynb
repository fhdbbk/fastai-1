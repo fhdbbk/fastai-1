{
  "nbformat": 4,
  "nbformat_minor": 0,
  "metadata": {
    "colab": {
      "name": "Understanding Delegates.ipynb",
      "provenance": [],
      "authorship_tag": "ABX9TyNNqQsY+gOG5hqVlR21ReKn",
      "include_colab_link": true
    },
    "kernelspec": {
      "name": "python3",
      "display_name": "Python 3"
    },
    "language_info": {
      "name": "python"
    }
  },
  "cells": [
    {
      "cell_type": "markdown",
      "metadata": {
        "id": "view-in-github",
        "colab_type": "text"
      },
      "source": [
        "<a href=\"https://colab.research.google.com/github/fhdbbk/fastai-1/blob/main/Understanding_Delegates.ipynb\" target=\"_parent\"><img src=\"https://colab.research.google.com/assets/colab-badge.svg\" alt=\"Open In Colab\"/></a>"
      ]
    },
    {
      "cell_type": "code",
      "metadata": {
        "id": "2H0XiwpTrR0d"
      },
      "source": [
        "from datetime import datetime\n",
        "import inspect\n",
        "import time"
      ],
      "execution_count": 1,
      "outputs": []
    },
    {
      "cell_type": "code",
      "metadata": {
        "id": "WZUGrHVEq9Rz"
      },
      "source": [
        "class WebPage:\n",
        "    def __init__(self, title, category=\"General\", date=None, author=\"Fahad\"):\n",
        "        self.title,self.category,self.author = title,category,author\n",
        "        self.date = date or datetime.now()\n",
        "\n",
        "    def other_method(self):\n",
        "      pass"
      ],
      "execution_count": 2,
      "outputs": []
    },
    {
      "cell_type": "code",
      "metadata": {
        "id": "tuuJx_w0u9Dw"
      },
      "source": [
        "class ProductPage(WebPage):\n",
        "    def __init__(self, title, price, cost, category=\"General\", date=None, author=\"Fahad\"):\n",
        "        super().__init__(title, category=category, date=date, author=author)\n",
        "\n",
        "class ProductPage2(WebPage):\n",
        "    def __init__(self, title, price, cost, **kwargs):\n",
        "        super().__init__(title, **kwargs)"
      ],
      "execution_count": 3,
      "outputs": []
    },
    {
      "cell_type": "code",
      "metadata": {
        "colab": {
          "base_uri": "https://localhost:8080/"
        },
        "id": "gpX-ac2NJahe",
        "outputId": "375df393-c037-4e63-947f-b300c6c5da77"
      },
      "source": [
        "dir(WebPage)"
      ],
      "execution_count": null,
      "outputs": [
        {
          "output_type": "execute_result",
          "data": {
            "text/plain": [
              "['__class__',\n",
              " '__delattr__',\n",
              " '__dict__',\n",
              " '__dir__',\n",
              " '__doc__',\n",
              " '__eq__',\n",
              " '__format__',\n",
              " '__ge__',\n",
              " '__getattribute__',\n",
              " '__gt__',\n",
              " '__hash__',\n",
              " '__init__',\n",
              " '__init_subclass__',\n",
              " '__le__',\n",
              " '__lt__',\n",
              " '__module__',\n",
              " '__ne__',\n",
              " '__new__',\n",
              " '__reduce__',\n",
              " '__reduce_ex__',\n",
              " '__repr__',\n",
              " '__setattr__',\n",
              " '__sizeof__',\n",
              " '__str__',\n",
              " '__subclasshook__',\n",
              " '__weakref__',\n",
              " 'other_method']"
            ]
          },
          "metadata": {
            "tags": []
          },
          "execution_count": 4
        }
      ]
    },
    {
      "cell_type": "code",
      "metadata": {
        "colab": {
          "base_uri": "https://localhost:8080/"
        },
        "id": "G281PGRgvEwX",
        "outputId": "068a301f-38ab-4087-f4b3-683675952b3d"
      },
      "source": [
        "p1 = ProductPage(\"Novel\", 225.0, 220.0, category='Book', author='Fariya')\n",
        "p2 = ProductPage(\"AI\", 550.0, 500.0, category='Book', author='Fahad')\n",
        "print(p1.author)\n",
        "print(p2.author)"
      ],
      "execution_count": 4,
      "outputs": [
        {
          "output_type": "stream",
          "text": [
            "Fariya\n",
            "Fahad\n"
          ],
          "name": "stdout"
        }
      ]
    },
    {
      "cell_type": "code",
      "metadata": {
        "colab": {
          "base_uri": "https://localhost:8080/"
        },
        "id": "tCuGUC69JwXS",
        "outputId": "f2436313-d433-4c91-8243-187a676cabfa"
      },
      "source": [
        "dir(p1)"
      ],
      "execution_count": null,
      "outputs": [
        {
          "output_type": "execute_result",
          "data": {
            "text/plain": [
              "['__class__',\n",
              " '__delattr__',\n",
              " '__dict__',\n",
              " '__dir__',\n",
              " '__doc__',\n",
              " '__eq__',\n",
              " '__format__',\n",
              " '__ge__',\n",
              " '__getattribute__',\n",
              " '__gt__',\n",
              " '__hash__',\n",
              " '__init__',\n",
              " '__init_subclass__',\n",
              " '__le__',\n",
              " '__lt__',\n",
              " '__module__',\n",
              " '__ne__',\n",
              " '__new__',\n",
              " '__reduce__',\n",
              " '__reduce_ex__',\n",
              " '__repr__',\n",
              " '__setattr__',\n",
              " '__sizeof__',\n",
              " '__str__',\n",
              " '__subclasshook__',\n",
              " '__weakref__',\n",
              " 'author',\n",
              " 'category',\n",
              " 'date',\n",
              " 'other_method',\n",
              " 'title']"
            ]
          },
          "metadata": {
            "tags": []
          },
          "execution_count": 6
        }
      ]
    },
    {
      "cell_type": "code",
      "metadata": {
        "colab": {
          "base_uri": "https://localhost:8080/"
        },
        "id": "IEGUDzcLNVyY",
        "outputId": "f6b74a2d-98b9-4d06-b33b-2ee814a4a60d"
      },
      "source": [
        "p1.__dict__"
      ],
      "execution_count": null,
      "outputs": [
        {
          "output_type": "execute_result",
          "data": {
            "text/plain": [
              "{'author': 'Fariya',\n",
              " 'category': 'Book',\n",
              " 'date': datetime.datetime(2021, 6, 3, 9, 14, 23, 91811),\n",
              " 'title': 'Novel'}"
            ]
          },
          "metadata": {
            "tags": []
          },
          "execution_count": 9
        }
      ]
    },
    {
      "cell_type": "code",
      "metadata": {
        "colab": {
          "base_uri": "https://localhost:8080/"
        },
        "id": "Fc9lT9LJL5hc",
        "outputId": "5a3b03bc-5304-45e7-b93e-3af1f39e3f95"
      },
      "source": [
        "sig = inspect.signature(ProductPage)\n",
        "print(sig)\n",
        "print(type(sig))\n",
        "sig.parameters"
      ],
      "execution_count": null,
      "outputs": [
        {
          "output_type": "stream",
          "text": [
            "(title, price, cost, category='General', date=None, author='Fahad')\n",
            "<class 'inspect.Signature'>\n"
          ],
          "name": "stdout"
        },
        {
          "output_type": "execute_result",
          "data": {
            "text/plain": [
              "mappingproxy({'author': <Parameter \"author='Fahad'\">,\n",
              "              'category': <Parameter \"category='General'\">,\n",
              "              'cost': <Parameter \"cost\">,\n",
              "              'date': <Parameter \"date=None\">,\n",
              "              'price': <Parameter \"price\">,\n",
              "              'title': <Parameter \"title\">})"
            ]
          },
          "metadata": {
            "tags": []
          },
          "execution_count": 8
        }
      ]
    },
    {
      "cell_type": "code",
      "metadata": {
        "colab": {
          "base_uri": "https://localhost:8080/"
        },
        "id": "mNWOnM1vvlzv",
        "outputId": "4a190f92-8cc8-4e76-e682-ef884068aeb7"
      },
      "source": [
        "print(inspect.signature(ProductPage))\n",
        "print(inspect.signature(ProductPage2))"
      ],
      "execution_count": 5,
      "outputs": [
        {
          "output_type": "stream",
          "text": [
            "(title, price, cost, category='General', date=None, author='Fahad')\n",
            "(title, price, cost, **kwargs)\n"
          ],
          "name": "stdout"
        }
      ]
    },
    {
      "cell_type": "markdown",
      "metadata": {
        "id": "ncEtLGsOGVm6"
      },
      "source": [
        "## Example of a decorator"
      ]
    },
    {
      "cell_type": "code",
      "metadata": {
        "colab": {
          "base_uri": "https://localhost:8080/"
        },
        "id": "cXwZIzWjvmhP",
        "outputId": "a6364e26-415c-4c80-c11b-8cfefac0d3da"
      },
      "source": [
        "def show_time(f):\n",
        "  def inner(*args, **kwargs):\n",
        "    start_time = time.time()\n",
        "    res = f(*args, **kwargs)\n",
        "    time_taken = time.time() - start_time\n",
        "    print(\"Time taken to run: {}\".format(time_taken))\n",
        "    return res\n",
        "  return inner\n",
        "\n",
        "@show_time\n",
        "def add(a, b):\n",
        "  c = a + b\n",
        "  time.sleep(1)\n",
        "  return c\n",
        "\n",
        "# add = show_time(add)\n",
        "c = add(2, 4)\n",
        "print(c)"
      ],
      "execution_count": 3,
      "outputs": [
        {
          "output_type": "stream",
          "text": [
            "Time taken to run: 1.001905918121338\n",
            "6\n"
          ],
          "name": "stdout"
        }
      ]
    },
    {
      "cell_type": "markdown",
      "metadata": {
        "id": "BOXbZgTgXCK4"
      },
      "source": [
        "## Decorator with argument"
      ]
    },
    {
      "cell_type": "code",
      "metadata": {
        "colab": {
          "base_uri": "https://localhost:8080/"
        },
        "id": "0UbvYR3bVT9Y",
        "outputId": "10fa3d45-8a30-4531-b067-f48a13c4c92e"
      },
      "source": [
        "def prefix_decorator(prefix):\n",
        "  def decorator_func(original_function):\n",
        "    def wrapper(*args, **kwargs):\n",
        "      print(prefix, \"Executed this before {}\".format(original_function.__name__))\n",
        "      res = original_function(*args, **kwargs)\n",
        "      print(prefix, \"Executed this after {}\".format(original_function.__name__))\n",
        "      return res\n",
        "    return wrapper\n",
        "  return decorator_func\n",
        "\n",
        "@prefix_decorator('LOG:')\n",
        "def display_info(name, age):\n",
        "  print(\"Ran with {} and {}\".format(name, age))\n",
        "\n",
        "display_info(\"Fahad\", 30)"
      ],
      "execution_count": 4,
      "outputs": [
        {
          "output_type": "stream",
          "text": [
            "LOG: Executed this before display_info\n",
            "Ran with Fahad and 30\n",
            "LOG: Executed this after display_info\n"
          ],
          "name": "stdout"
        }
      ]
    },
    {
      "cell_type": "code",
      "metadata": {
        "id": "_CZ_19IrHtvv"
      },
      "source": [
        "def delegates(to=None, keep=False):\n",
        "    \"Decorator: replace `**kwargs` in signature with params from `to`\"\n",
        "    def _f(f):\n",
        "        if to is None: to_f,from_f = f.__base__.__init__,f.__init__\n",
        "        else:          to_f,from_f = to,f\n",
        "        print(f\"to_f: {to_f}\\t from_f: {from_f}\")\n",
        "        sig = inspect.signature(from_f)\n",
        "        sigd = dict(sig.parameters)\n",
        "        print(sigd)\n",
        "        k = sigd.pop('kwargs')\n",
        "        print(k)\n",
        "        print(inspect.signature(to_f).parameters.items())\n",
        "        for x,v in inspect.signature(to_f).parameters.items():\n",
        "          print(\"Looking default for {}\".format(x))\n",
        "          print(v.default)\n",
        "        s2 = {k:v for k,v in inspect.signature(to_f).parameters.items()\n",
        "              if v.default != inspect.Parameter.empty and k not in sigd}\n",
        "        print(s2)\n",
        "        sigd.update(s2)\n",
        "        if keep: sigd['kwargs'] = k\n",
        "        from_f.__signature__ = sig.replace(parameters=sigd.values())\n",
        "        return f\n",
        "    return _f"
      ],
      "execution_count": 22,
      "outputs": []
    },
    {
      "cell_type": "code",
      "metadata": {
        "colab": {
          "base_uri": "https://localhost:8080/"
        },
        "id": "VVbC5ixTXqWq",
        "outputId": "97c8dd79-9e3b-436e-98e2-205e5d026b31"
      },
      "source": [
        "@delegates()\n",
        "class ProductPage2(WebPage):\n",
        "    def __init__(self, title, price, cost, **kwargs):\n",
        "        super().__init__(title, **kwargs)"
      ],
      "execution_count": 27,
      "outputs": [
        {
          "output_type": "stream",
          "text": [
            "to_f: <function WebPage.__init__ at 0x7fade2ce8050>\t from_f: <function ProductPage2.__init__ at 0x7fade2b67950>\n",
            "{'self': <Parameter \"self\">, 'title': <Parameter \"title\">, 'price': <Parameter \"price\">, 'cost': <Parameter \"cost\">, 'kwargs': <Parameter \"**kwargs\">}\n",
            "**kwargs\n",
            "odict_items([('self', <Parameter \"self\">), ('title', <Parameter \"title\">), ('category', <Parameter \"category='General'\">), ('date', <Parameter \"date=None\">), ('author', <Parameter \"author='Fahad'\">)])\n",
            "Looking default for self\n",
            "<class 'inspect._empty'>\n",
            "Looking default for title\n",
            "<class 'inspect._empty'>\n",
            "Looking default for category\n",
            "General\n",
            "Looking default for date\n",
            "None\n",
            "Looking default for author\n",
            "Fahad\n",
            "{'category': <Parameter \"category='General'\">, 'date': <Parameter \"date=None\">, 'author': <Parameter \"author='Fahad'\">}\n"
          ],
          "name": "stdout"
        }
      ]
    },
    {
      "cell_type": "code",
      "metadata": {
        "colab": {
          "base_uri": "https://localhost:8080/"
        },
        "id": "0WWVJ9xbX5GQ",
        "outputId": "30000c87-0d23-4d51-9eae-d996eaa2d257"
      },
      "source": [
        "print(inspect.signature(ProductPage2))"
      ],
      "execution_count": 28,
      "outputs": [
        {
          "output_type": "stream",
          "text": [
            "(title, price, cost, category='General', date=None, author='Fahad')\n"
          ],
          "name": "stdout"
        }
      ]
    },
    {
      "cell_type": "markdown",
      "metadata": {
        "id": "oA0Td4_wfAyo"
      },
      "source": [
        "## Delegated Composition"
      ]
    },
    {
      "cell_type": "code",
      "metadata": {
        "id": "ujexTODRQKl-"
      },
      "source": [
        "def custom_dir(c, add): return dir(type(c)) + list(c.__dict__.keys()) + add\n",
        "\n",
        "class GetAttr:\n",
        "    \"Base class for attr accesses in `self._xtra` passed down to `self.default`\"\n",
        "    @property\n",
        "    def _xtra(self): return [o for o in dir(self.default) if not o.startswith('_')]\n",
        "    def __getattr__(self,k):\n",
        "        if k in self._xtra: return getattr(self.default, k)\n",
        "        raise AttributeError(k)\n",
        "    def __dir__(self): return custom_dir(self, self._xtra)"
      ],
      "execution_count": 46,
      "outputs": []
    },
    {
      "cell_type": "code",
      "metadata": {
        "id": "eF3cdyQ2f1Ku"
      },
      "source": [
        "class ProductPage3(GetAttr):\n",
        "    def __init__(self, page, price, cost):\n",
        "        self.page,self.price,self.cost = page,price,cost\n",
        "        self.default = page"
      ],
      "execution_count": 47,
      "outputs": []
    },
    {
      "cell_type": "code",
      "metadata": {
        "colab": {
          "base_uri": "https://localhost:8080/",
          "height": 35
        },
        "id": "EYPJKJg0f50Q",
        "outputId": "a8ecba13-53b2-463e-fc7e-b7ebf951e572"
      },
      "source": [
        "page = WebPage('Soap', category='Bathroom', author=\"Sylvain\")\n",
        "p = ProductPage3(page, 15.0, 10.50)\n",
        "p.author"
      ],
      "execution_count": 48,
      "outputs": [
        {
          "output_type": "execute_result",
          "data": {
            "application/vnd.google.colaboratory.intrinsic+json": {
              "type": "string"
            },
            "text/plain": [
              "'Sylvain'"
            ]
          },
          "metadata": {
            "tags": []
          },
          "execution_count": 48
        }
      ]
    },
    {
      "cell_type": "code",
      "metadata": {
        "colab": {
          "base_uri": "https://localhost:8080/"
        },
        "id": "5bRQmA6vgI-C",
        "outputId": "2538de9d-7dc3-4346-caa1-cd8a6989f8e9"
      },
      "source": [
        "print(inspect.signature(ProductPage3))"
      ],
      "execution_count": 49,
      "outputs": [
        {
          "output_type": "stream",
          "text": [
            "(page, price, cost)\n"
          ],
          "name": "stdout"
        }
      ]
    },
    {
      "cell_type": "code",
      "metadata": {
        "colab": {
          "base_uri": "https://localhost:8080/"
        },
        "id": "RycMImefgT4h",
        "outputId": "29aae970-a39a-499a-fa01-a1ae53809154"
      },
      "source": [
        "params = [o for o in dir(p) if not o.startswith('_')]\n",
        "\n",
        "print(params)"
      ],
      "execution_count": 50,
      "outputs": [
        {
          "output_type": "stream",
          "text": [
            "['author', 'category', 'cost', 'date', 'default', 'other_method', 'page', 'price', 'title']\n"
          ],
          "name": "stdout"
        }
      ]
    },
    {
      "cell_type": "code",
      "metadata": {
        "id": "F4fdMwkti2Ou"
      },
      "source": [
        ""
      ],
      "execution_count": null,
      "outputs": []
    }
  ]
}