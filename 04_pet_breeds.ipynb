{
  "nbformat": 4,
  "nbformat_minor": 0,
  "metadata": {
    "jupytext": {
      "split_at_heading": true
    },
    "kernelspec": {
      "display_name": "Python 3",
      "language": "python",
      "name": "python3"
    },
    "colab": {
      "name": "04_pet_breeds.ipynb",
      "provenance": [],
      "include_colab_link": true
    }
  },
  "cells": [
    {
      "cell_type": "markdown",
      "metadata": {
        "id": "view-in-github",
        "colab_type": "text"
      },
      "source": [
        "<a href=\"https://colab.research.google.com/github/fhdbbk/fastai-1/blob/main/04_pet_breeds.ipynb\" target=\"_parent\"><img src=\"https://colab.research.google.com/assets/colab-badge.svg\" alt=\"Open In Colab\"/></a>"
      ]
    },
    {
      "cell_type": "code",
      "metadata": {
        "id": "z_6gaFlrOcAk"
      },
      "source": [
        "#hide\n",
        "!pip install -Uqq fastbook\n",
        "import fastbook\n",
        "# fastbook.setup_book()"
      ],
      "execution_count": null,
      "outputs": []
    },
    {
      "cell_type": "code",
      "metadata": {
        "id": "If-G9x72OcAp"
      },
      "source": [
        "#hide\n",
        "from fastbook import *"
      ],
      "execution_count": null,
      "outputs": []
    },
    {
      "cell_type": "markdown",
      "metadata": {
        "id": "O8wv-ruyOcAr"
      },
      "source": [
        "# Image Classification"
      ]
    },
    {
      "cell_type": "markdown",
      "metadata": {
        "id": "IpjKR7OvOcAs"
      },
      "source": [
        "## From Dogs and Cats to Pet Breeds"
      ]
    },
    {
      "cell_type": "code",
      "metadata": {
        "id": "7aVPHzHQOcAt"
      },
      "source": [
        "from fastai.vision.all import *\n",
        "path = untar_data(URLs.PETS)"
      ],
      "execution_count": null,
      "outputs": []
    },
    {
      "cell_type": "code",
      "metadata": {
        "id": "sFbhV7srOcAu"
      },
      "source": [
        "#hide\n",
        "Path.BASE_PATH = path"
      ],
      "execution_count": null,
      "outputs": []
    },
    {
      "cell_type": "code",
      "metadata": {
        "id": "SwLHFvGqOcAu"
      },
      "source": [
        "path.ls()"
      ],
      "execution_count": null,
      "outputs": []
    },
    {
      "cell_type": "code",
      "metadata": {
        "id": "FfGcFEL4OcAv"
      },
      "source": [
        "(path/\"images\").ls()"
      ],
      "execution_count": null,
      "outputs": []
    },
    {
      "cell_type": "code",
      "metadata": {
        "id": "BdacGp1uOcAw"
      },
      "source": [
        "fname = (path/\"images\").ls()[0]"
      ],
      "execution_count": null,
      "outputs": []
    },
    {
      "cell_type": "code",
      "metadata": {
        "id": "qcNfd80COcAx"
      },
      "source": [
        "re.findall(r'(.+)_\\d+.jpg$', fname.name)"
      ],
      "execution_count": null,
      "outputs": []
    },
    {
      "cell_type": "code",
      "metadata": {
        "id": "T16326LrOcAy"
      },
      "source": [
        "pets = DataBlock(blocks = (ImageBlock, CategoryBlock),\n",
        "                 get_items=get_image_files, \n",
        "                 splitter=RandomSplitter(seed=42),\n",
        "                 get_y=using_attr(RegexLabeller(r'(.+)_\\d+.jpg$'), 'name'),\n",
        "                 item_tfms=Resize(460),\n",
        "                 batch_tfms=aug_transforms(size=224, min_scale=0.75))\n",
        "dls = pets.dataloaders(path/\"images\")"
      ],
      "execution_count": null,
      "outputs": []
    },
    {
      "cell_type": "markdown",
      "metadata": {
        "id": "YNcbScsOOcAz"
      },
      "source": [
        "## Presizing"
      ]
    },
    {
      "cell_type": "code",
      "metadata": {
        "id": "GFMtigr6OcA0"
      },
      "source": [
        "dblock1 = DataBlock(blocks=(ImageBlock(), CategoryBlock()),\n",
        "                   get_y=parent_label,\n",
        "                   item_tfms=Resize(460))\n",
        "dls1 = dblock1.dataloaders([(Path.cwd()/'images'/'grizzly.jpg')]*100, bs=8)\n",
        "dls1.train.get_idxs = lambda: Inf.ones\n",
        "x,y = dls1.valid.one_batch()\n",
        "_,axs = subplots(1, 2)\n",
        "\n",
        "x1 = TensorImage(x.clone())\n",
        "x1 = x1.affine_coord(sz=224)\n",
        "x1 = x1.rotate(draw=30, p=1.)\n",
        "x1 = x1.zoom(draw=1.2, p=1.)\n",
        "x1 = x1.warp(draw_x=-0.2, draw_y=0.2, p=1.)\n",
        "\n",
        "tfms = setup_aug_tfms([Rotate(draw=30, p=1, size=224), Zoom(draw=1.2, p=1., size=224),\n",
        "                       Warp(draw_x=-0.2, draw_y=0.2, p=1., size=224)])\n",
        "x = Pipeline(tfms)(x)\n",
        "#x.affine_coord(coord_tfm=coord_tfm, sz=size, mode=mode, pad_mode=pad_mode)\n",
        "TensorImage(x[0]).show(ctx=axs[0])\n",
        "TensorImage(x1[0]).show(ctx=axs[1]);"
      ],
      "execution_count": null,
      "outputs": []
    },
    {
      "cell_type": "markdown",
      "metadata": {
        "id": "JYNIe4LyOcA1"
      },
      "source": [
        "### Checking and Debugging a DataBlock"
      ]
    },
    {
      "cell_type": "code",
      "metadata": {
        "id": "oA3NOBUfOcA1"
      },
      "source": [
        "dls.show_batch(nrows=1, ncols=3)"
      ],
      "execution_count": null,
      "outputs": []
    },
    {
      "cell_type": "code",
      "metadata": {
        "id": "4SFYhuSrOcA2"
      },
      "source": [
        "pets1 = DataBlock(blocks = (ImageBlock, CategoryBlock),\n",
        "                 get_items=get_image_files, \n",
        "                 splitter=RandomSplitter(seed=42),\n",
        "                 get_y=using_attr(RegexLabeller(r'(.+)_\\d+.jpg$'), 'name'))\n",
        "pets1.summary(path/\"images\")"
      ],
      "execution_count": null,
      "outputs": []
    },
    {
      "cell_type": "code",
      "metadata": {
        "id": "kx1csAjpOcA3"
      },
      "source": [
        "learn = cnn_learner(dls, resnet34, metrics=error_rate)\n",
        "learn.fine_tune(2)"
      ],
      "execution_count": null,
      "outputs": []
    },
    {
      "cell_type": "markdown",
      "metadata": {
        "id": "5bwC3gaVOcA3"
      },
      "source": [
        "## Cross-Entropy Loss"
      ]
    },
    {
      "cell_type": "markdown",
      "metadata": {
        "id": "KNtEuRXNOcA4"
      },
      "source": [
        "### Viewing Activations and Labels"
      ]
    },
    {
      "cell_type": "code",
      "metadata": {
        "id": "tFNHAzxCOcA4"
      },
      "source": [
        "x,y = dls.one_batch()"
      ],
      "execution_count": null,
      "outputs": []
    },
    {
      "cell_type": "code",
      "metadata": {
        "id": "8Pg6wzXbOcA5"
      },
      "source": [
        "y"
      ],
      "execution_count": null,
      "outputs": []
    },
    {
      "cell_type": "code",
      "metadata": {
        "id": "XXM2EUQyOcA5"
      },
      "source": [
        "preds,_ = learn.get_preds(dl=[(x,y)])\n",
        "preds[0]"
      ],
      "execution_count": null,
      "outputs": []
    },
    {
      "cell_type": "code",
      "metadata": {
        "id": "1W_zEI9dOcA6"
      },
      "source": [
        "len(preds[0]),preds[0].sum()"
      ],
      "execution_count": null,
      "outputs": []
    },
    {
      "cell_type": "markdown",
      "metadata": {
        "id": "gNVs6chKOcA6"
      },
      "source": [
        "### Softmax"
      ]
    },
    {
      "cell_type": "code",
      "metadata": {
        "id": "67M55RxBOcA7"
      },
      "source": [
        "plot_function(torch.sigmoid, min=-4,max=4)"
      ],
      "execution_count": null,
      "outputs": []
    },
    {
      "cell_type": "code",
      "metadata": {
        "id": "nIYXLamAOcA7"
      },
      "source": [
        "#hide\n",
        "torch.random.manual_seed(42);"
      ],
      "execution_count": null,
      "outputs": []
    },
    {
      "cell_type": "code",
      "metadata": {
        "id": "h4J_IzL4OcA8"
      },
      "source": [
        "acts = torch.randn((6,2))*2\n",
        "acts"
      ],
      "execution_count": null,
      "outputs": []
    },
    {
      "cell_type": "code",
      "metadata": {
        "id": "SKK6j2x2OcA8"
      },
      "source": [
        "acts.sigmoid()"
      ],
      "execution_count": null,
      "outputs": []
    },
    {
      "cell_type": "code",
      "metadata": {
        "id": "cCDBrBzLOcA9"
      },
      "source": [
        "(acts[:,0]-acts[:,1]).sigmoid()"
      ],
      "execution_count": null,
      "outputs": []
    },
    {
      "cell_type": "code",
      "metadata": {
        "id": "0eRFzZTvOcA9"
      },
      "source": [
        "sm_acts = torch.softmax(acts, dim=1)\n",
        "sm_acts"
      ],
      "execution_count": null,
      "outputs": []
    },
    {
      "cell_type": "markdown",
      "metadata": {
        "id": "zJfVrvs9OcA-"
      },
      "source": [
        "### Log Likelihood"
      ]
    },
    {
      "cell_type": "code",
      "metadata": {
        "id": "o_OUhOqpOcA-"
      },
      "source": [
        "targ = tensor([0,1,0,1,1,0])"
      ],
      "execution_count": null,
      "outputs": []
    },
    {
      "cell_type": "code",
      "metadata": {
        "id": "DtwxZcTcOcA-"
      },
      "source": [
        "sm_acts"
      ],
      "execution_count": null,
      "outputs": []
    },
    {
      "cell_type": "code",
      "metadata": {
        "id": "kOWwD2L8OcA_"
      },
      "source": [
        "idx = range(6)\n",
        "sm_acts[idx, targ]"
      ],
      "execution_count": null,
      "outputs": []
    },
    {
      "cell_type": "code",
      "metadata": {
        "id": "3fdHy4yNOcA_"
      },
      "source": [
        "from IPython.display import HTML\n",
        "df = pd.DataFrame(sm_acts, columns=[\"3\",\"7\"])\n",
        "df['targ'] = targ\n",
        "df['idx'] = idx\n",
        "df['loss'] = sm_acts[range(6), targ]\n",
        "t = df.style.hide_index()\n",
        "#To have html code compatible with our script\n",
        "html = t._repr_html_().split('</style>')[1]\n",
        "html = re.sub(r'<table id=\"([^\"]+)\"\\s*>', r'<table >', html)\n",
        "display(HTML(html))"
      ],
      "execution_count": null,
      "outputs": []
    },
    {
      "cell_type": "code",
      "metadata": {
        "id": "9A3VIuxUOcBA"
      },
      "source": [
        "-sm_acts[idx, targ]"
      ],
      "execution_count": null,
      "outputs": []
    },
    {
      "cell_type": "code",
      "metadata": {
        "id": "p3jlHPstOcBA"
      },
      "source": [
        "F.nll_loss(sm_acts, targ, reduction='none')"
      ],
      "execution_count": null,
      "outputs": []
    },
    {
      "cell_type": "markdown",
      "metadata": {
        "id": "-cUpa61SOcBB"
      },
      "source": [
        "### Taking the Log"
      ]
    },
    {
      "cell_type": "code",
      "metadata": {
        "id": "3Fkl-xyvOcBB"
      },
      "source": [
        "plot_function(torch.log, min=0,max=4)"
      ],
      "execution_count": null,
      "outputs": []
    },
    {
      "cell_type": "code",
      "metadata": {
        "id": "JLK0hK6EOcBC"
      },
      "source": [
        "loss_func = nn.CrossEntropyLoss()"
      ],
      "execution_count": null,
      "outputs": []
    },
    {
      "cell_type": "code",
      "metadata": {
        "id": "id92NePQOcBC"
      },
      "source": [
        "loss_func(acts, targ)"
      ],
      "execution_count": null,
      "outputs": []
    },
    {
      "cell_type": "code",
      "metadata": {
        "id": "WKxpUlulOcBC"
      },
      "source": [
        "F.cross_entropy(acts, targ)"
      ],
      "execution_count": null,
      "outputs": []
    },
    {
      "cell_type": "code",
      "metadata": {
        "id": "7JaUZFNROcBD"
      },
      "source": [
        "nn.CrossEntropyLoss(reduction='none')(acts, targ)"
      ],
      "execution_count": null,
      "outputs": []
    },
    {
      "cell_type": "markdown",
      "metadata": {
        "id": "aPignHZlOcBD"
      },
      "source": [
        "## Model Interpretation"
      ]
    },
    {
      "cell_type": "code",
      "metadata": {
        "id": "8K8DuYcJOcBE"
      },
      "source": [
        "interp = ClassificationInterpretation.from_learner(learn)\n",
        "interp.plot_confusion_matrix(figsize=(12,12), dpi=60)"
      ],
      "execution_count": null,
      "outputs": []
    },
    {
      "cell_type": "code",
      "metadata": {
        "id": "lZdB6-GDOcBE"
      },
      "source": [
        "interp.most_confused(min_val=5)"
      ],
      "execution_count": null,
      "outputs": []
    },
    {
      "cell_type": "markdown",
      "metadata": {
        "id": "xgxvko4WOcBF"
      },
      "source": [
        "## Improving Our Model"
      ]
    },
    {
      "cell_type": "markdown",
      "metadata": {
        "id": "6oXSYsWqOcBF"
      },
      "source": [
        "### The Learning Rate Finder"
      ]
    },
    {
      "cell_type": "code",
      "metadata": {
        "id": "bPss8WO3OcBF"
      },
      "source": [
        "learn = cnn_learner(dls, resnet34, metrics=error_rate)\n",
        "learn.fine_tune(1, base_lr=0.1)"
      ],
      "execution_count": null,
      "outputs": []
    },
    {
      "cell_type": "code",
      "metadata": {
        "id": "Eq9DT-s0OcBG"
      },
      "source": [
        "learn = cnn_learner(dls, resnet34, metrics=error_rate)\n",
        "lr_min,lr_steep = learn.lr_find()"
      ],
      "execution_count": null,
      "outputs": []
    },
    {
      "cell_type": "code",
      "metadata": {
        "id": "AcEg7R7_OcBG"
      },
      "source": [
        "print(f\"Minimum/10: {lr_min:.2e}, steepest point: {lr_steep:.2e}\")"
      ],
      "execution_count": null,
      "outputs": []
    },
    {
      "cell_type": "code",
      "metadata": {
        "id": "PP3FX7NxOcBH"
      },
      "source": [
        "learn = cnn_learner(dls, resnet34, metrics=error_rate)\n",
        "learn.fine_tune(2, base_lr=3e-3)"
      ],
      "execution_count": null,
      "outputs": []
    },
    {
      "cell_type": "markdown",
      "metadata": {
        "id": "2XniM2rAOcBH"
      },
      "source": [
        "### Unfreezing and Transfer Learning"
      ]
    },
    {
      "cell_type": "code",
      "metadata": {
        "id": "vWRWcr0rOcBI"
      },
      "source": [
        "learn.fine_tune??"
      ],
      "execution_count": null,
      "outputs": []
    },
    {
      "cell_type": "code",
      "metadata": {
        "id": "cyYSzCX7OcBI"
      },
      "source": [
        "learn = cnn_learner(dls, resnet34, metrics=error_rate)\n",
        "learn.fit_one_cycle(3, 3e-3)"
      ],
      "execution_count": null,
      "outputs": []
    },
    {
      "cell_type": "code",
      "metadata": {
        "id": "DBDxW6wMOcBJ"
      },
      "source": [
        "learn.unfreeze()"
      ],
      "execution_count": null,
      "outputs": []
    },
    {
      "cell_type": "code",
      "metadata": {
        "id": "Y-eMwrc9OcBJ"
      },
      "source": [
        "learn.lr_find()"
      ],
      "execution_count": null,
      "outputs": []
    },
    {
      "cell_type": "code",
      "metadata": {
        "id": "ZsYPGkt7OcBJ"
      },
      "source": [
        "learn.fit_one_cycle(6, lr_max=1e-5)"
      ],
      "execution_count": null,
      "outputs": []
    },
    {
      "cell_type": "markdown",
      "metadata": {
        "id": "vEiSjmP5OcBK"
      },
      "source": [
        "### Discriminative Learning Rates"
      ]
    },
    {
      "cell_type": "code",
      "metadata": {
        "id": "OpQZbtClOcBK"
      },
      "source": [
        "learn = cnn_learner(dls, resnet34, metrics=error_rate)\n",
        "learn.fit_one_cycle(3, 3e-3)\n",
        "learn.unfreeze()\n",
        "learn.fit_one_cycle(12, lr_max=slice(1e-6,1e-4))"
      ],
      "execution_count": null,
      "outputs": []
    },
    {
      "cell_type": "code",
      "metadata": {
        "id": "1UGdfDm0OcBL"
      },
      "source": [
        "learn.recorder.plot_loss()"
      ],
      "execution_count": null,
      "outputs": []
    },
    {
      "cell_type": "markdown",
      "metadata": {
        "id": "88Iq2FV-OcBM"
      },
      "source": [
        "### Selecting the Number of Epochs"
      ]
    },
    {
      "cell_type": "markdown",
      "metadata": {
        "id": "J0dccs1QOcBM"
      },
      "source": [
        "### Deeper Architectures"
      ]
    },
    {
      "cell_type": "code",
      "metadata": {
        "id": "45xLQVXHOcBM"
      },
      "source": [
        "from fastai.callback.fp16 import *\n",
        "learn = cnn_learner(dls, resnet50, metrics=error_rate).to_fp16()\n",
        "learn.fine_tune(6, freeze_epochs=3)"
      ],
      "execution_count": null,
      "outputs": []
    },
    {
      "cell_type": "markdown",
      "metadata": {
        "id": "3-hjLdp1OcBN"
      },
      "source": [
        "## Conclusion"
      ]
    },
    {
      "cell_type": "markdown",
      "metadata": {
        "id": "XSRdCy9ZOcBN"
      },
      "source": [
        "## Questionnaire"
      ]
    },
    {
      "cell_type": "markdown",
      "metadata": {
        "id": "WXCM4lDwOcBO"
      },
      "source": [
        "1. Why do we first resize to a large size on the CPU, and then to a smaller size on the GPU?\n",
        "1. If you are not familiar with regular expressions, find a regular expression tutorial, and some problem sets, and complete them. Have a look on the book's website for suggestions.\n",
        "1. What are the two ways in which data is most commonly provided, for most deep learning datasets?\n",
        "1. Look up the documentation for `L` and try using a few of the new methods that it adds.\n",
        "1. Look up the documentation for the Python `pathlib` module and try using a few methods of the `Path` class.\n",
        "1. Give two examples of ways that image transformations can degrade the quality of the data.\n",
        "1. What method does fastai provide to view the data in a `DataLoaders`?\n",
        "1. What method does fastai provide to help you debug a `DataBlock`?\n",
        "1. Should you hold off on training a model until you have thoroughly cleaned your data?\n",
        "1. What are the two pieces that are combined into cross-entropy loss in PyTorch?\n",
        "1. What are the two properties of activations that softmax ensures? Why is this important?\n",
        "1. When might you want your activations to not have these two properties?\n",
        "1. Calculate the `exp` and `softmax` columns of <<bear_softmax>> yourself (i.e., in a spreadsheet, with a calculator, or in a notebook).\n",
        "1. Why can't we use `torch.where` to create a loss function for datasets where our label can have more than two categories?\n",
        "1. What is the value of log(-2)? Why?\n",
        "1. What are two good rules of thumb for picking a learning rate from the learning rate finder?\n",
        "1. What two steps does the `fine_tune` method do?\n",
        "1. In Jupyter Notebook, how do you get the source code for a method or function?\n",
        "1. What are discriminative learning rates?\n",
        "1. How is a Python `slice` object interpreted when passed as a learning rate to fastai?\n",
        "1. Why is early stopping a poor choice when using 1cycle training?\n",
        "1. What is the difference between `resnet50` and `resnet101`?\n",
        "1. What does `to_fp16` do?"
      ]
    },
    {
      "cell_type": "markdown",
      "metadata": {
        "id": "Ip1oQSuDOcBQ"
      },
      "source": [
        "### Further Research"
      ]
    },
    {
      "cell_type": "markdown",
      "metadata": {
        "id": "8ilwfgWxOcBQ"
      },
      "source": [
        "1. Find the paper by Leslie Smith that introduced the learning rate finder, and read it.\n",
        "1. See if you can improve the accuracy of the classifier in this chapter. What's the best accuracy you can achieve? Look on the forums and the book's website to see what other students have achieved with this dataset, and how they did it."
      ]
    },
    {
      "cell_type": "code",
      "metadata": {
        "id": "8UVFcBSXOcBR"
      },
      "source": [
        ""
      ],
      "execution_count": null,
      "outputs": []
    }
  ]
}