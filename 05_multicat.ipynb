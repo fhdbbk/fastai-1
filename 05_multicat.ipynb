{
  "nbformat": 4,
  "nbformat_minor": 0,
  "metadata": {
    "jupytext": {
      "split_at_heading": true
    },
    "kernelspec": {
      "display_name": "Python 3",
      "language": "python",
      "name": "python3"
    },
    "colab": {
      "name": "05_multicat.ipynb",
      "provenance": [],
      "include_colab_link": true
    }
  },
  "cells": [
    {
      "cell_type": "markdown",
      "metadata": {
        "id": "view-in-github",
        "colab_type": "text"
      },
      "source": [
        "<a href=\"https://colab.research.google.com/github/fhdbbk/fastai-1/blob/main/05_multicat.ipynb\" target=\"_parent\"><img src=\"https://colab.research.google.com/assets/colab-badge.svg\" alt=\"Open In Colab\"/></a>"
      ]
    },
    {
      "cell_type": "code",
      "metadata": {
        "id": "JiMFscMW7kvS",
        "colab": {
          "base_uri": "https://localhost:8080/"
        },
        "outputId": "b2c928db-ad2c-4d56-97cf-5c92fff7a18b"
      },
      "source": [
        "#hide\n",
        "!pip install -Uqq fastbook\n",
        "import fastbook\n",
        "fastbook.setup_book()"
      ],
      "execution_count": 1,
      "outputs": [
        {
          "output_type": "stream",
          "name": "stdout",
          "text": [
            "\u001b[K     |████████████████████████████████| 720 kB 5.0 MB/s \n",
            "\u001b[K     |████████████████████████████████| 189 kB 55.5 MB/s \n",
            "\u001b[K     |████████████████████████████████| 1.2 MB 45.9 MB/s \n",
            "\u001b[K     |████████████████████████████████| 46 kB 4.3 MB/s \n",
            "\u001b[K     |████████████████████████████████| 56 kB 1.3 MB/s \n",
            "\u001b[K     |████████████████████████████████| 51 kB 218 kB/s \n",
            "\u001b[?25hMounted at /content/gdrive\n"
          ]
        }
      ]
    },
    {
      "cell_type": "code",
      "metadata": {
        "id": "tQzemnU27kvW"
      },
      "source": [
        "#hide\n",
        "from fastbook import *"
      ],
      "execution_count": 2,
      "outputs": []
    },
    {
      "cell_type": "markdown",
      "metadata": {
        "id": "uLQUfgrZ7kvX"
      },
      "source": [
        "# Other Computer Vision Problems"
      ]
    },
    {
      "cell_type": "markdown",
      "metadata": {
        "id": "iwBBu8lG7kva"
      },
      "source": [
        "## Multi-Label Classification"
      ]
    },
    {
      "cell_type": "markdown",
      "metadata": {
        "id": "jsafX4Ms7kvb"
      },
      "source": [
        "### The Data"
      ]
    },
    {
      "cell_type": "code",
      "metadata": {
        "id": "uRthSTP27kvb",
        "colab": {
          "base_uri": "https://localhost:8080/",
          "height": 37
        },
        "outputId": "683a597d-2d64-4307-9ca5-9964086afb66"
      },
      "source": [
        "from fastai.vision.all import *\n",
        "path = untar_data(URLs.PASCAL_2007)"
      ],
      "execution_count": 3,
      "outputs": [
        {
          "output_type": "display_data",
          "data": {
            "text/html": [
              "\n",
              "    <div>\n",
              "        <style>\n",
              "            /* Turns off some styling */\n",
              "            progress {\n",
              "                /* gets rid of default border in Firefox and Opera. */\n",
              "                border: none;\n",
              "                /* Needs to be in here for Safari polyfill so background images work as expected. */\n",
              "                background-size: auto;\n",
              "            }\n",
              "            .progress-bar-interrupted, .progress-bar-interrupted::-webkit-progress-bar {\n",
              "                background: #F44336;\n",
              "            }\n",
              "        </style>\n",
              "      <progress value='1637801984' class='' max='1637796771' style='width:300px; height:20px; vertical-align: middle;'></progress>\n",
              "      100.00% [1637801984/1637796771 00:32<00:00]\n",
              "    </div>\n",
              "    "
            ],
            "text/plain": [
              "<IPython.core.display.HTML object>"
            ]
          },
          "metadata": {}
        }
      ]
    },
    {
      "cell_type": "code",
      "metadata": {
        "colab": {
          "base_uri": "https://localhost:8080/",
          "height": 35
        },
        "id": "M0Zy9isE9P-f",
        "outputId": "cb28a6c1-1d15-4275-a084-c43591e50bae"
      },
      "source": [
        "URLs.PASCAL_2007"
      ],
      "execution_count": 4,
      "outputs": [
        {
          "output_type": "execute_result",
          "data": {
            "application/vnd.google.colaboratory.intrinsic+json": {
              "type": "string"
            },
            "text/plain": [
              "'https://s3.amazonaws.com/fast-ai-imagelocal/pascal_2007.tgz'"
            ]
          },
          "metadata": {},
          "execution_count": 4
        }
      ]
    },
    {
      "cell_type": "code",
      "metadata": {
        "colab": {
          "base_uri": "https://localhost:8080/"
        },
        "id": "xJtGgMyA-PUU",
        "outputId": "853fa792-8103-4685-fa6f-4cd66652523e"
      },
      "source": [
        "path.ls()"
      ],
      "execution_count": 5,
      "outputs": [
        {
          "output_type": "execute_result",
          "data": {
            "text/plain": [
              "(#8) [Path('/root/.fastai/data/pascal_2007/segmentation'),Path('/root/.fastai/data/pascal_2007/valid.json'),Path('/root/.fastai/data/pascal_2007/train.csv'),Path('/root/.fastai/data/pascal_2007/test'),Path('/root/.fastai/data/pascal_2007/train.json'),Path('/root/.fastai/data/pascal_2007/train'),Path('/root/.fastai/data/pascal_2007/test.json'),Path('/root/.fastai/data/pascal_2007/test.csv')]"
            ]
          },
          "metadata": {},
          "execution_count": 5
        }
      ]
    },
    {
      "cell_type": "code",
      "metadata": {
        "id": "sMmFz_UG7kvc",
        "colab": {
          "base_uri": "https://localhost:8080/",
          "height": 206
        },
        "outputId": "f6798ebf-5040-4a64-b0f4-bab6290a03a8"
      },
      "source": [
        "df = pd.read_csv(path/'train.csv')\n",
        "df.head()"
      ],
      "execution_count": 6,
      "outputs": [
        {
          "output_type": "execute_result",
          "data": {
            "text/html": [
              "<div>\n",
              "<style scoped>\n",
              "    .dataframe tbody tr th:only-of-type {\n",
              "        vertical-align: middle;\n",
              "    }\n",
              "\n",
              "    .dataframe tbody tr th {\n",
              "        vertical-align: top;\n",
              "    }\n",
              "\n",
              "    .dataframe thead th {\n",
              "        text-align: right;\n",
              "    }\n",
              "</style>\n",
              "<table border=\"1\" class=\"dataframe\">\n",
              "  <thead>\n",
              "    <tr style=\"text-align: right;\">\n",
              "      <th></th>\n",
              "      <th>fname</th>\n",
              "      <th>labels</th>\n",
              "      <th>is_valid</th>\n",
              "    </tr>\n",
              "  </thead>\n",
              "  <tbody>\n",
              "    <tr>\n",
              "      <th>0</th>\n",
              "      <td>000005.jpg</td>\n",
              "      <td>chair</td>\n",
              "      <td>True</td>\n",
              "    </tr>\n",
              "    <tr>\n",
              "      <th>1</th>\n",
              "      <td>000007.jpg</td>\n",
              "      <td>car</td>\n",
              "      <td>True</td>\n",
              "    </tr>\n",
              "    <tr>\n",
              "      <th>2</th>\n",
              "      <td>000009.jpg</td>\n",
              "      <td>horse person</td>\n",
              "      <td>True</td>\n",
              "    </tr>\n",
              "    <tr>\n",
              "      <th>3</th>\n",
              "      <td>000012.jpg</td>\n",
              "      <td>car</td>\n",
              "      <td>False</td>\n",
              "    </tr>\n",
              "    <tr>\n",
              "      <th>4</th>\n",
              "      <td>000016.jpg</td>\n",
              "      <td>bicycle</td>\n",
              "      <td>True</td>\n",
              "    </tr>\n",
              "  </tbody>\n",
              "</table>\n",
              "</div>"
            ],
            "text/plain": [
              "        fname        labels  is_valid\n",
              "0  000005.jpg         chair      True\n",
              "1  000007.jpg           car      True\n",
              "2  000009.jpg  horse person      True\n",
              "3  000012.jpg           car     False\n",
              "4  000016.jpg       bicycle      True"
            ]
          },
          "metadata": {},
          "execution_count": 6
        }
      ]
    },
    {
      "cell_type": "markdown",
      "metadata": {
        "id": "cmlQZITG7kvd"
      },
      "source": [
        "### Sidebar: Pandas and DataFrames"
      ]
    },
    {
      "cell_type": "code",
      "metadata": {
        "id": "Afp5Cgk27kve",
        "colab": {
          "base_uri": "https://localhost:8080/"
        },
        "outputId": "c9726972-5b08-453e-dc69-e4096e861d3c"
      },
      "source": [
        "df.iloc[:,0]"
      ],
      "execution_count": 7,
      "outputs": [
        {
          "output_type": "execute_result",
          "data": {
            "text/plain": [
              "0       000005.jpg\n",
              "1       000007.jpg\n",
              "2       000009.jpg\n",
              "3       000012.jpg\n",
              "4       000016.jpg\n",
              "           ...    \n",
              "5006    009954.jpg\n",
              "5007    009955.jpg\n",
              "5008    009958.jpg\n",
              "5009    009959.jpg\n",
              "5010    009961.jpg\n",
              "Name: fname, Length: 5011, dtype: object"
            ]
          },
          "metadata": {},
          "execution_count": 7
        }
      ]
    },
    {
      "cell_type": "code",
      "metadata": {
        "id": "zOC9grZ07kvf",
        "colab": {
          "base_uri": "https://localhost:8080/"
        },
        "outputId": "8a631e27-4771-454b-ef59-5181ac7fd9c5"
      },
      "source": [
        "df.iloc[0,:]\n",
        "# Trailing :s are always optional (in numpy, pytorch, pandas, etc.),\n",
        "#   so this is equivalent:\n",
        "df.iloc[0]"
      ],
      "execution_count": 8,
      "outputs": [
        {
          "output_type": "execute_result",
          "data": {
            "text/plain": [
              "fname       000005.jpg\n",
              "labels           chair\n",
              "is_valid          True\n",
              "Name: 0, dtype: object"
            ]
          },
          "metadata": {},
          "execution_count": 8
        }
      ]
    },
    {
      "cell_type": "code",
      "metadata": {
        "id": "6kH9Cgz37kvg",
        "colab": {
          "base_uri": "https://localhost:8080/"
        },
        "outputId": "8d5a8ead-02df-465a-a865-104cd110bd1b"
      },
      "source": [
        "df['fname']"
      ],
      "execution_count": 9,
      "outputs": [
        {
          "output_type": "execute_result",
          "data": {
            "text/plain": [
              "0       000005.jpg\n",
              "1       000007.jpg\n",
              "2       000009.jpg\n",
              "3       000012.jpg\n",
              "4       000016.jpg\n",
              "           ...    \n",
              "5006    009954.jpg\n",
              "5007    009955.jpg\n",
              "5008    009958.jpg\n",
              "5009    009959.jpg\n",
              "5010    009961.jpg\n",
              "Name: fname, Length: 5011, dtype: object"
            ]
          },
          "metadata": {},
          "execution_count": 9
        }
      ]
    },
    {
      "cell_type": "code",
      "metadata": {
        "id": "94b0jJ897kvg",
        "colab": {
          "base_uri": "https://localhost:8080/",
          "height": 112
        },
        "outputId": "374fbd8f-8647-4477-af3a-1c68a3d2b79c"
      },
      "source": [
        "tmp_df = pd.DataFrame({'a':[1,2], 'b':[3,4]})\n",
        "tmp_df"
      ],
      "execution_count": 10,
      "outputs": [
        {
          "output_type": "execute_result",
          "data": {
            "text/html": [
              "<div>\n",
              "<style scoped>\n",
              "    .dataframe tbody tr th:only-of-type {\n",
              "        vertical-align: middle;\n",
              "    }\n",
              "\n",
              "    .dataframe tbody tr th {\n",
              "        vertical-align: top;\n",
              "    }\n",
              "\n",
              "    .dataframe thead th {\n",
              "        text-align: right;\n",
              "    }\n",
              "</style>\n",
              "<table border=\"1\" class=\"dataframe\">\n",
              "  <thead>\n",
              "    <tr style=\"text-align: right;\">\n",
              "      <th></th>\n",
              "      <th>a</th>\n",
              "      <th>b</th>\n",
              "    </tr>\n",
              "  </thead>\n",
              "  <tbody>\n",
              "    <tr>\n",
              "      <th>0</th>\n",
              "      <td>1</td>\n",
              "      <td>3</td>\n",
              "    </tr>\n",
              "    <tr>\n",
              "      <th>1</th>\n",
              "      <td>2</td>\n",
              "      <td>4</td>\n",
              "    </tr>\n",
              "  </tbody>\n",
              "</table>\n",
              "</div>"
            ],
            "text/plain": [
              "   a  b\n",
              "0  1  3\n",
              "1  2  4"
            ]
          },
          "metadata": {},
          "execution_count": 10
        }
      ]
    },
    {
      "cell_type": "code",
      "metadata": {
        "id": "wGZm4vnE7kvg",
        "colab": {
          "base_uri": "https://localhost:8080/",
          "height": 112
        },
        "outputId": "b621001c-ab8d-4a73-a30d-473daed2efc9"
      },
      "source": [
        "tmp_df['c'] = tmp_df['a']+tmp_df['b']\n",
        "tmp_df"
      ],
      "execution_count": 11,
      "outputs": [
        {
          "output_type": "execute_result",
          "data": {
            "text/html": [
              "<div>\n",
              "<style scoped>\n",
              "    .dataframe tbody tr th:only-of-type {\n",
              "        vertical-align: middle;\n",
              "    }\n",
              "\n",
              "    .dataframe tbody tr th {\n",
              "        vertical-align: top;\n",
              "    }\n",
              "\n",
              "    .dataframe thead th {\n",
              "        text-align: right;\n",
              "    }\n",
              "</style>\n",
              "<table border=\"1\" class=\"dataframe\">\n",
              "  <thead>\n",
              "    <tr style=\"text-align: right;\">\n",
              "      <th></th>\n",
              "      <th>a</th>\n",
              "      <th>b</th>\n",
              "      <th>c</th>\n",
              "    </tr>\n",
              "  </thead>\n",
              "  <tbody>\n",
              "    <tr>\n",
              "      <th>0</th>\n",
              "      <td>1</td>\n",
              "      <td>3</td>\n",
              "      <td>4</td>\n",
              "    </tr>\n",
              "    <tr>\n",
              "      <th>1</th>\n",
              "      <td>2</td>\n",
              "      <td>4</td>\n",
              "      <td>6</td>\n",
              "    </tr>\n",
              "  </tbody>\n",
              "</table>\n",
              "</div>"
            ],
            "text/plain": [
              "   a  b  c\n",
              "0  1  3  4\n",
              "1  2  4  6"
            ]
          },
          "metadata": {},
          "execution_count": 11
        }
      ]
    },
    {
      "cell_type": "markdown",
      "metadata": {
        "id": "jRB_8XNL7kvh"
      },
      "source": [
        "### End sidebar"
      ]
    },
    {
      "cell_type": "markdown",
      "metadata": {
        "id": "3pA8ZtJ17kvh"
      },
      "source": [
        "### Constructing a DataBlock"
      ]
    },
    {
      "cell_type": "markdown",
      "metadata": {
        "id": "vqAcStsm_nkP"
      },
      "source": [
        "* A dataset is a collection that returns a tuple of our independent and dependent variable for a single item. We can also take the length of it.\n",
        "* A dataloader is an iterator that provides a stream of mini-batches, where each mini-batch is a couple of a batch of independent variables and a batch of dependent variables."
      ]
    },
    {
      "cell_type": "code",
      "metadata": {
        "colab": {
          "base_uri": "https://localhost:8080/"
        },
        "id": "lJVlIjXv__bT",
        "outputId": "a5274ee7-1ad2-4e9c-9dd3-4ba561d51477"
      },
      "source": [
        "# Example dataset\n",
        "a = list(enumerate(string.ascii_lowercase))\n",
        "print(a[0])\n",
        "print(len(a))"
      ],
      "execution_count": 12,
      "outputs": [
        {
          "output_type": "stream",
          "name": "stdout",
          "text": [
            "(0, 'a')\n",
            "26\n"
          ]
        }
      ]
    },
    {
      "cell_type": "markdown",
      "metadata": {
        "id": "7RqVu0fZA5sY"
      },
      "source": [
        "Now we have a dataset, so we can pass it to a dataloader"
      ]
    },
    {
      "cell_type": "code",
      "metadata": {
        "colab": {
          "base_uri": "https://localhost:8080/"
        },
        "id": "rEytGr1GA_dr",
        "outputId": "edba2a42-4948-47e8-89be-1fe11c36f794"
      },
      "source": [
        "dl_a = DataLoader(a, batch_size=8, shuffle=True)\n",
        "b = first(dl_a)\n",
        "b"
      ],
      "execution_count": 13,
      "outputs": [
        {
          "output_type": "execute_result",
          "data": {
            "text/plain": [
              "(tensor([ 7, 24, 17, 21,  5, 19,  9, 15]),\n",
              " ('h', 'y', 'r', 'v', 'f', 't', 'j', 'p'))"
            ]
          },
          "metadata": {},
          "execution_count": 13
        }
      ]
    },
    {
      "cell_type": "markdown",
      "metadata": {
        "id": "E2_U0g4JCutR"
      },
      "source": [
        "**Datasets:** An iterator that contains a training Dataset and a validation Dataset.\n",
        "\n",
        "**DataLoaders:** An object that contains a training DataLoader and a validation DataLoader."
      ]
    },
    {
      "cell_type": "code",
      "metadata": {
        "colab": {
          "base_uri": "https://localhost:8080/"
        },
        "id": "pIOngo1NDFYo",
        "outputId": "fafd3d25-335a-4a71-f186-2eac317e5a2d"
      },
      "source": [
        "a = list(string.ascii_lowercase)\n",
        "print(a[0])\n",
        "print(len(a))"
      ],
      "execution_count": 14,
      "outputs": [
        {
          "output_type": "stream",
          "name": "stdout",
          "text": [
            "a\n",
            "26\n"
          ]
        }
      ]
    },
    {
      "cell_type": "code",
      "metadata": {
        "colab": {
          "base_uri": "https://localhost:8080/"
        },
        "id": "WOeee5pCDgfb",
        "outputId": "c4a8c0dc-056f-4dec-dc9c-c29fcfd393e1"
      },
      "source": [
        "dss = Datasets(a)\n",
        "print(dss.train)\n",
        "print(dss.valid)\n",
        "print(dss.train[0])"
      ],
      "execution_count": 21,
      "outputs": [
        {
          "output_type": "stream",
          "name": "stdout",
          "text": [
            "(#26) [('a',),('b',),('c',),('d',),('e',),('f',),('g',),('h',),('i',),('j',)...]\n",
            "(#0) []\n",
            "('a',)\n"
          ]
        }
      ]
    },
    {
      "cell_type": "code",
      "metadata": {
        "id": "lwsJcPqpEKv_"
      },
      "source": [
        "def f1(o): return o + 'a'\n",
        "def f2(o): return o + 'b'"
      ],
      "execution_count": 22,
      "outputs": []
    },
    {
      "cell_type": "code",
      "metadata": {
        "colab": {
          "base_uri": "https://localhost:8080/"
        },
        "id": "61hKJOOfEUVv",
        "outputId": "561d20a9-78e1-4fd5-a7f4-acc6a116504d"
      },
      "source": [
        "dss = Datasets(a, tfms=[[f1]])\n",
        "dss[0]"
      ],
      "execution_count": 23,
      "outputs": [
        {
          "output_type": "execute_result",
          "data": {
            "text/plain": [
              "('aa',)"
            ]
          },
          "metadata": {},
          "execution_count": 23
        }
      ]
    },
    {
      "cell_type": "code",
      "metadata": {
        "colab": {
          "base_uri": "https://localhost:8080/"
        },
        "id": "6RQOIQQ_Ej6Y",
        "outputId": "e09421c8-5b51-4804-8c76-2712ec91585f"
      },
      "source": [
        "dss = Datasets(a, tfms=[[f1, f2]])\n",
        "dss[0]"
      ],
      "execution_count": 24,
      "outputs": [
        {
          "output_type": "execute_result",
          "data": {
            "text/plain": [
              "('aab',)"
            ]
          },
          "metadata": {},
          "execution_count": 24
        }
      ]
    },
    {
      "cell_type": "code",
      "metadata": {
        "colab": {
          "base_uri": "https://localhost:8080/"
        },
        "id": "ydJuKaXBEsDS",
        "outputId": "4b53e2cd-1e86-46bb-f913-05ce33624ee2"
      },
      "source": [
        "# This is the way we generally create a dataset wherein we pass a filename and \n",
        "# apply two functions to it. One returns the image and another return the label. \n",
        "# Thus we get a tuple of image and label.\n",
        "dss = Datasets(a, tfms=[[f1], [f2]])\n",
        "dss[0]"
      ],
      "execution_count": 26,
      "outputs": [
        {
          "output_type": "execute_result",
          "data": {
            "text/plain": [
              "('aa', 'ab')"
            ]
          },
          "metadata": {},
          "execution_count": 26
        }
      ]
    },
    {
      "cell_type": "code",
      "metadata": {
        "colab": {
          "base_uri": "https://localhost:8080/"
        },
        "id": "DzymLhd0FnBd",
        "outputId": "c0d053d2-2553-47c4-90b7-3b555a8ff63c"
      },
      "source": [
        "dls = DataLoaders.from_dsets(dss, batch_size=4)\n",
        "first(dls.train)"
      ],
      "execution_count": 27,
      "outputs": [
        {
          "output_type": "execute_result",
          "data": {
            "text/plain": [
              "(('ra', 'sa', 'ka', 'wa'), ('rb', 'sb', 'kb', 'wb'))"
            ]
          },
          "metadata": {},
          "execution_count": 27
        }
      ]
    },
    {
      "cell_type": "markdown",
      "metadata": {
        "id": "BVOI83DxG-ZX"
      },
      "source": [
        "Creating datasets and dataloaders using Datablock"
      ]
    },
    {
      "cell_type": "code",
      "metadata": {
        "id": "a4D-BXIZ7kvi"
      },
      "source": [
        "dblock = DataBlock()"
      ],
      "execution_count": 28,
      "outputs": []
    },
    {
      "cell_type": "code",
      "metadata": {
        "id": "ombECrDa7kvi"
      },
      "source": [
        "dsets = dblock.datasets(df)"
      ],
      "execution_count": 29,
      "outputs": []
    },
    {
      "cell_type": "code",
      "metadata": {
        "id": "od9CAD3n7kvj",
        "colab": {
          "base_uri": "https://localhost:8080/"
        },
        "outputId": "c23afdca-6b18-488f-c73b-a4543e863650"
      },
      "source": [
        "len(dsets.train),len(dsets.valid)"
      ],
      "execution_count": 30,
      "outputs": [
        {
          "output_type": "execute_result",
          "data": {
            "text/plain": [
              "(4009, 1002)"
            ]
          },
          "metadata": {},
          "execution_count": 30
        }
      ]
    },
    {
      "cell_type": "code",
      "metadata": {
        "id": "YVXaPR3f7kvj",
        "colab": {
          "base_uri": "https://localhost:8080/"
        },
        "outputId": "07d8d982-3b0f-4aa4-8ec1-e46f3af486bc"
      },
      "source": [
        "x,y = dsets.train[0]\n",
        "x,y"
      ],
      "execution_count": 31,
      "outputs": [
        {
          "output_type": "execute_result",
          "data": {
            "text/plain": [
              "(fname         002786.jpg\n",
              " labels      horse person\n",
              " is_valid            True\n",
              " Name: 1401, dtype: object, fname         002786.jpg\n",
              " labels      horse person\n",
              " is_valid            True\n",
              " Name: 1401, dtype: object)"
            ]
          },
          "metadata": {},
          "execution_count": 31
        }
      ]
    },
    {
      "cell_type": "markdown",
      "metadata": {
        "id": "Mb4Hj6eIHkha"
      },
      "source": [
        "This simply returns a row of the DataFrame, twice. This is because by\n",
        "default, the data block assumes we have two things: input and target. We are going to need to grab the appropriate fields from the DataFrame, which we can do by passing get_x and get_y functions"
      ]
    },
    {
      "cell_type": "code",
      "metadata": {
        "id": "jLaI3QU77kvk",
        "colab": {
          "base_uri": "https://localhost:8080/",
          "height": 35
        },
        "outputId": "e97b3f78-9445-4890-e7b3-41f73957e576"
      },
      "source": [
        "x['fname']"
      ],
      "execution_count": 32,
      "outputs": [
        {
          "output_type": "execute_result",
          "data": {
            "application/vnd.google.colaboratory.intrinsic+json": {
              "type": "string"
            },
            "text/plain": [
              "'002786.jpg'"
            ]
          },
          "metadata": {},
          "execution_count": 32
        }
      ]
    },
    {
      "cell_type": "code",
      "metadata": {
        "id": "HamCChrm7kvk",
        "colab": {
          "base_uri": "https://localhost:8080/"
        },
        "outputId": "43e2c3f3-9b83-4bd2-ff6a-ea041802bb23"
      },
      "source": [
        "dblock = DataBlock(get_x = lambda r: r['fname'], get_y = lambda r: r['labels'])\n",
        "dsets = dblock.datasets(df)\n",
        "dsets.train[0]"
      ],
      "execution_count": 33,
      "outputs": [
        {
          "output_type": "execute_result",
          "data": {
            "text/plain": [
              "('007204.jpg', 'cat')"
            ]
          },
          "metadata": {},
          "execution_count": 33
        }
      ]
    },
    {
      "cell_type": "code",
      "metadata": {
        "id": "SepzLKuQ7kvl",
        "colab": {
          "base_uri": "https://localhost:8080/"
        },
        "outputId": "ff508199-50e8-4258-9cd3-280e725723be"
      },
      "source": [
        "def get_x(r): return r['fname']\n",
        "def get_y(r): return r['labels']\n",
        "dblock = DataBlock(get_x = get_x, get_y = get_y)\n",
        "dsets = dblock.datasets(df)\n",
        "dsets.train[0]"
      ],
      "execution_count": 34,
      "outputs": [
        {
          "output_type": "execute_result",
          "data": {
            "text/plain": [
              "('002848.jpg', 'motorbike')"
            ]
          },
          "metadata": {},
          "execution_count": 34
        }
      ]
    },
    {
      "cell_type": "code",
      "metadata": {
        "id": "3FNzgw4X7kvl",
        "colab": {
          "base_uri": "https://localhost:8080/"
        },
        "outputId": "97df4c0d-cbb5-4959-9657-562e29f42b0d"
      },
      "source": [
        "def get_x(r): return path/'train'/r['fname']\n",
        "def get_y(r): return r['labels'].split(' ')\n",
        "dblock = DataBlock(get_x = get_x, get_y = get_y)\n",
        "dsets = dblock.datasets(df)\n",
        "dsets.train[0]"
      ],
      "execution_count": 35,
      "outputs": [
        {
          "output_type": "execute_result",
          "data": {
            "text/plain": [
              "(Path('/root/.fastai/data/pascal_2007/train/004010.jpg'), ['sofa', 'person'])"
            ]
          },
          "metadata": {},
          "execution_count": 35
        }
      ]
    },
    {
      "cell_type": "code",
      "metadata": {
        "id": "GofeoB527kvm",
        "colab": {
          "base_uri": "https://localhost:8080/"
        },
        "outputId": "2a547ad4-69c8-4702-991f-3fdbc88d3f5c"
      },
      "source": [
        "dblock = DataBlock(blocks=(ImageBlock, MultiCategoryBlock),\n",
        "                   get_x = get_x, get_y = get_y)\n",
        "dsets = dblock.datasets(df)\n",
        "dsets.train[0]"
      ],
      "execution_count": 36,
      "outputs": [
        {
          "output_type": "execute_result",
          "data": {
            "text/plain": [
              "(PILImage mode=RGB size=500x375,\n",
              " TensorMultiCategory([0., 0., 0., 0., 0., 0., 1., 0., 0., 0., 0., 0., 0., 0., 1., 0., 0., 0., 0., 0.]))"
            ]
          },
          "metadata": {},
          "execution_count": 36
        }
      ]
    },
    {
      "cell_type": "code",
      "metadata": {
        "colab": {
          "base_uri": "https://localhost:8080/"
        },
        "id": "v5NCmSH1I9Vp",
        "outputId": "d9851089-18de-490e-c909-8cf0213ada36"
      },
      "source": [
        "torch.where(dsets.train[0][1] == 1)[0]"
      ],
      "execution_count": 40,
      "outputs": [
        {
          "output_type": "execute_result",
          "data": {
            "text/plain": [
              "TensorMultiCategory([ 6, 14])"
            ]
          },
          "metadata": {},
          "execution_count": 40
        }
      ]
    },
    {
      "cell_type": "code",
      "metadata": {
        "id": "_PlVKkI07kvm",
        "colab": {
          "base_uri": "https://localhost:8080/"
        },
        "outputId": "ee44f6c5-28dc-4000-c072-ac1ec4f36727"
      },
      "source": [
        "idxs = torch.where(dsets.train[0][1]==1.)[0]\n",
        "print(idxs)\n",
        "dsets.train.vocab[idxs]"
      ],
      "execution_count": 42,
      "outputs": [
        {
          "output_type": "stream",
          "name": "stdout",
          "text": [
            "TensorMultiCategory([ 6, 14])\n"
          ]
        },
        {
          "output_type": "execute_result",
          "data": {
            "text/plain": [
              "(#2) ['car','person']"
            ]
          },
          "metadata": {},
          "execution_count": 42
        }
      ]
    },
    {
      "cell_type": "code",
      "metadata": {
        "colab": {
          "base_uri": "https://localhost:8080/"
        },
        "id": "dNZzVA7rJn7c",
        "outputId": "e8ce9049-c791-45ce-d268-05aeddc5b820"
      },
      "source": [
        "df.index[~df['is_valid']].tolist()[:10]"
      ],
      "execution_count": 47,
      "outputs": [
        {
          "output_type": "execute_result",
          "data": {
            "text/plain": [
              "[3, 5, 9, 11, 13, 14, 15, 16, 17, 20]"
            ]
          },
          "metadata": {},
          "execution_count": 47
        }
      ]
    },
    {
      "cell_type": "code",
      "metadata": {
        "id": "ZhrT7uZz7kvm",
        "colab": {
          "base_uri": "https://localhost:8080/"
        },
        "outputId": "8911c0e4-35f1-4d81-dce4-854089cdfc3d"
      },
      "source": [
        "def splitter(df):\n",
        "    train = df.index[~df['is_valid']].tolist()\n",
        "    valid = df.index[df['is_valid']].tolist()\n",
        "    return train,valid\n",
        "\n",
        "dblock = DataBlock(blocks=(ImageBlock, MultiCategoryBlock),\n",
        "                   splitter=splitter,\n",
        "                   get_x=get_x, \n",
        "                   get_y=get_y)\n",
        "\n",
        "dsets = dblock.datasets(df)\n",
        "dsets.train[0]"
      ],
      "execution_count": 48,
      "outputs": [
        {
          "output_type": "execute_result",
          "data": {
            "text/plain": [
              "(PILImage mode=RGB size=500x333,\n",
              " TensorMultiCategory([0., 0., 0., 0., 0., 0., 1., 0., 0., 0., 0., 0., 0., 0., 0., 0., 0., 0., 0., 0.]))"
            ]
          },
          "metadata": {},
          "execution_count": 48
        }
      ]
    },
    {
      "cell_type": "code",
      "metadata": {
        "id": "AotJRhId7kvn"
      },
      "source": [
        "dblock = DataBlock(blocks=(ImageBlock, MultiCategoryBlock),\n",
        "                   splitter=splitter,\n",
        "                   get_x=get_x, \n",
        "                   get_y=get_y,\n",
        "                   item_tfms = RandomResizedCrop(128, min_scale=0.35))\n",
        "dls = dblock.dataloaders(df)"
      ],
      "execution_count": 49,
      "outputs": []
    },
    {
      "cell_type": "code",
      "metadata": {
        "id": "FaDSCDh27kvn",
        "colab": {
          "base_uri": "https://localhost:8080/",
          "height": 195
        },
        "outputId": "8b858dad-8197-47df-bc58-aeb57b438718"
      },
      "source": [
        "dls.show_batch(nrows=1, ncols=3)"
      ],
      "execution_count": 50,
      "outputs": [
        {
          "output_type": "display_data",
          "data": {
            "image/png": "[encoded data removed]",
            "text/plain": [
              "<Figure size 648x216 with 3 Axes>"
            ]
          },
          "metadata": {
            "needs_background": "light"
          }
        }
      ]
    },
    {
      "cell_type": "markdown",
      "metadata": {
        "id": "b8P4IsLk7kvn"
      },
      "source": [
        "### Binary Cross-Entropy"
      ]
    },
    {
      "cell_type": "code",
      "metadata": {
        "id": "QSOzadHI7kvo"
      },
      "source": [
        "learn = cnn_learner(dls, resnet18)"
      ],
      "execution_count": null,
      "outputs": []
    },
    {
      "cell_type": "code",
      "metadata": {
        "id": "fBhVz-fk7kvo"
      },
      "source": [
        "x,y = to_cpu(dls.train.one_batch())\n",
        "activs = learn.model(x)\n",
        "activs.shape"
      ],
      "execution_count": null,
      "outputs": []
    },
    {
      "cell_type": "code",
      "metadata": {
        "id": "PZvsQDYl7kvo"
      },
      "source": [
        "activs[0]"
      ],
      "execution_count": null,
      "outputs": []
    },
    {
      "cell_type": "code",
      "metadata": {
        "id": "ZSzh6qP47kvo"
      },
      "source": [
        "def binary_cross_entropy(inputs, targets):\n",
        "    inputs = inputs.sigmoid()\n",
        "    return -torch.where(targets==1, inputs, 1-inputs).log().mean()"
      ],
      "execution_count": null,
      "outputs": []
    },
    {
      "cell_type": "code",
      "metadata": {
        "id": "ExR4YQOD7kvp"
      },
      "source": [
        "loss_func = nn.BCEWithLogitsLoss()\n",
        "loss = loss_func(activs, y)\n",
        "loss"
      ],
      "execution_count": null,
      "outputs": []
    },
    {
      "cell_type": "code",
      "metadata": {
        "id": "oQaEdxZX7kvp"
      },
      "source": [
        "def say_hello(name, say_what=\"Hello\"): return f\"{say_what} {name}.\"\n",
        "say_hello('Jeremy'),say_hello('Jeremy', 'Ahoy!')"
      ],
      "execution_count": null,
      "outputs": []
    },
    {
      "cell_type": "code",
      "metadata": {
        "id": "5U-1Krq67kvp"
      },
      "source": [
        "f = partial(say_hello, say_what=\"Bonjour\")\n",
        "f(\"Jeremy\"),f(\"Sylvain\")"
      ],
      "execution_count": null,
      "outputs": []
    },
    {
      "cell_type": "code",
      "metadata": {
        "id": "-LtMZuMd7kvq"
      },
      "source": [
        "learn = cnn_learner(dls, resnet50, metrics=partial(accuracy_multi, thresh=0.2))\n",
        "learn.fine_tune(3, base_lr=3e-3, freeze_epochs=4)"
      ],
      "execution_count": null,
      "outputs": []
    },
    {
      "cell_type": "code",
      "metadata": {
        "id": "--MpZdXo7kvq"
      },
      "source": [
        "learn.metrics = partial(accuracy_multi, thresh=0.1)\n",
        "learn.validate()"
      ],
      "execution_count": null,
      "outputs": []
    },
    {
      "cell_type": "code",
      "metadata": {
        "id": "L464UANu7kvq"
      },
      "source": [
        "learn.metrics = partial(accuracy_multi, thresh=0.99)\n",
        "learn.validate()"
      ],
      "execution_count": null,
      "outputs": []
    },
    {
      "cell_type": "code",
      "metadata": {
        "id": "ttHNtkDI7kvq"
      },
      "source": [
        "preds,targs = learn.get_preds()"
      ],
      "execution_count": null,
      "outputs": []
    },
    {
      "cell_type": "code",
      "metadata": {
        "id": "NQJEgp-J7kvq"
      },
      "source": [
        "accuracy_multi(preds, targs, thresh=0.9, sigmoid=False)"
      ],
      "execution_count": null,
      "outputs": []
    },
    {
      "cell_type": "code",
      "metadata": {
        "id": "0g9nkd_17kvr"
      },
      "source": [
        "xs = torch.linspace(0.05,0.95,29)\n",
        "accs = [accuracy_multi(preds, targs, thresh=i, sigmoid=False) for i in xs]\n",
        "plt.plot(xs,accs);"
      ],
      "execution_count": null,
      "outputs": []
    },
    {
      "cell_type": "markdown",
      "metadata": {
        "id": "SNgDkNrP7kvr"
      },
      "source": [
        "## Regression"
      ]
    },
    {
      "cell_type": "markdown",
      "metadata": {
        "id": "gCciARP-7kvr"
      },
      "source": [
        "### Assemble the Data"
      ]
    },
    {
      "cell_type": "code",
      "metadata": {
        "id": "Bfd9M7Sy7kvr"
      },
      "source": [
        "path = untar_data(URLs.BIWI_HEAD_POSE)"
      ],
      "execution_count": null,
      "outputs": []
    },
    {
      "cell_type": "code",
      "metadata": {
        "id": "5bwxnejG7kvr"
      },
      "source": [
        "#hide\n",
        "Path.BASE_PATH = path"
      ],
      "execution_count": null,
      "outputs": []
    },
    {
      "cell_type": "code",
      "metadata": {
        "id": "FfPSigzV7kvs"
      },
      "source": [
        "path.ls().sorted()"
      ],
      "execution_count": null,
      "outputs": []
    },
    {
      "cell_type": "code",
      "metadata": {
        "id": "QB-YEzBf7kvs"
      },
      "source": [
        "(path/'01').ls().sorted()"
      ],
      "execution_count": null,
      "outputs": []
    },
    {
      "cell_type": "code",
      "metadata": {
        "id": "yoWaLqhW7kvs"
      },
      "source": [
        "img_files = get_image_files(path)\n",
        "def img2pose(x): return Path(f'{str(x)[:-7]}pose.txt')\n",
        "img2pose(img_files[0])"
      ],
      "execution_count": null,
      "outputs": []
    },
    {
      "cell_type": "code",
      "metadata": {
        "id": "oOaO87cg7kvs"
      },
      "source": [
        "im = PILImage.create(img_files[0])\n",
        "im.shape"
      ],
      "execution_count": null,
      "outputs": []
    },
    {
      "cell_type": "code",
      "metadata": {
        "id": "Go-sJRE87kvs"
      },
      "source": [
        "im.to_thumb(160)"
      ],
      "execution_count": null,
      "outputs": []
    },
    {
      "cell_type": "code",
      "metadata": {
        "id": "s-PhcJ1U7kvt"
      },
      "source": [
        "cal = np.genfromtxt(path/'01'/'rgb.cal', skip_footer=6)\n",
        "def get_ctr(f):\n",
        "    ctr = np.genfromtxt(img2pose(f), skip_header=3)\n",
        "    c1 = ctr[0] * cal[0][0]/ctr[2] + cal[0][2]\n",
        "    c2 = ctr[1] * cal[1][1]/ctr[2] + cal[1][2]\n",
        "    return tensor([c1,c2])"
      ],
      "execution_count": null,
      "outputs": []
    },
    {
      "cell_type": "code",
      "metadata": {
        "id": "B-LrGcwN7kvt"
      },
      "source": [
        "get_ctr(img_files[0])"
      ],
      "execution_count": null,
      "outputs": []
    },
    {
      "cell_type": "code",
      "metadata": {
        "id": "NeFciniQ7kvt"
      },
      "source": [
        "biwi = DataBlock(\n",
        "    blocks=(ImageBlock, PointBlock),\n",
        "    get_items=get_image_files,\n",
        "    get_y=get_ctr,\n",
        "    splitter=FuncSplitter(lambda o: o.parent.name=='13'),\n",
        "    batch_tfms=[*aug_transforms(size=(240,320)), \n",
        "                Normalize.from_stats(*imagenet_stats)]\n",
        ")"
      ],
      "execution_count": null,
      "outputs": []
    },
    {
      "cell_type": "code",
      "metadata": {
        "id": "JFjgDs097kvt"
      },
      "source": [
        "dls = biwi.dataloaders(path)\n",
        "dls.show_batch(max_n=9, figsize=(8,6))"
      ],
      "execution_count": null,
      "outputs": []
    },
    {
      "cell_type": "code",
      "metadata": {
        "id": "4ZyZZyCW7kvt"
      },
      "source": [
        "xb,yb = dls.one_batch()\n",
        "xb.shape,yb.shape"
      ],
      "execution_count": null,
      "outputs": []
    },
    {
      "cell_type": "code",
      "metadata": {
        "id": "2usGFaD_7kvu"
      },
      "source": [
        "yb[0]"
      ],
      "execution_count": null,
      "outputs": []
    },
    {
      "cell_type": "markdown",
      "metadata": {
        "id": "o5bRQkza7kvu"
      },
      "source": [
        "### Training a Model"
      ]
    },
    {
      "cell_type": "code",
      "metadata": {
        "id": "IoHqEit_7kvu"
      },
      "source": [
        "learn = cnn_learner(dls, resnet18, y_range=(-1,1))"
      ],
      "execution_count": null,
      "outputs": []
    },
    {
      "cell_type": "code",
      "metadata": {
        "id": "8SwUyCVB7kvu"
      },
      "source": [
        "def sigmoid_range(x, lo, hi): return torch.sigmoid(x) * (hi-lo) + lo"
      ],
      "execution_count": null,
      "outputs": []
    },
    {
      "cell_type": "code",
      "metadata": {
        "id": "XpsLB0lM7kvu"
      },
      "source": [
        "plot_function(partial(sigmoid_range,lo=-1,hi=1), min=-4, max=4)"
      ],
      "execution_count": null,
      "outputs": []
    },
    {
      "cell_type": "code",
      "metadata": {
        "id": "-rEduEXY7kvv"
      },
      "source": [
        "dls.loss_func"
      ],
      "execution_count": null,
      "outputs": []
    },
    {
      "cell_type": "code",
      "metadata": {
        "id": "MwwarrE37kvv"
      },
      "source": [
        "learn.lr_find()"
      ],
      "execution_count": null,
      "outputs": []
    },
    {
      "cell_type": "code",
      "metadata": {
        "id": "w-6vxJLc7kvv"
      },
      "source": [
        "lr = 1e-2\n",
        "learn.fine_tune(3, lr)"
      ],
      "execution_count": null,
      "outputs": []
    },
    {
      "cell_type": "code",
      "metadata": {
        "id": "gCx7JHTW7kvv"
      },
      "source": [
        "math.sqrt(0.0001)"
      ],
      "execution_count": null,
      "outputs": []
    },
    {
      "cell_type": "code",
      "metadata": {
        "id": "9xQ86rPe7kvv"
      },
      "source": [
        "learn.show_results(ds_idx=1, nrows=3, figsize=(6,8))"
      ],
      "execution_count": null,
      "outputs": []
    },
    {
      "cell_type": "markdown",
      "metadata": {
        "id": "d1-G6Z1I7kvv"
      },
      "source": [
        "## Conclusion"
      ]
    },
    {
      "cell_type": "markdown",
      "metadata": {
        "id": "u_LOiYgt7kvv"
      },
      "source": [
        "## Questionnaire"
      ]
    },
    {
      "cell_type": "markdown",
      "metadata": {
        "id": "E_2UcHjS7kvv"
      },
      "source": [
        "1. How could multi-label classification improve the usability of the bear classifier?\n",
        "1. How do we encode the dependent variable in a multi-label classification problem?\n",
        "1. How do you access the rows and columns of a DataFrame as if it was a matrix?\n",
        "1. How do you get a column by name from a DataFrame?\n",
        "1. What is the difference between a `Dataset` and `DataLoader`?\n",
        "1. What does a `Datasets` object normally contain?\n",
        "1. What does a `DataLoaders` object normally contain?\n",
        "1. What does `lambda` do in Python?\n",
        "1. What are the methods to customize how the independent and dependent variables are created with the data block API?\n",
        "1. Why is softmax not an appropriate output activation function when using a one hot encoded target?\n",
        "1. Why is `nll_loss` not an appropriate loss function when using a one-hot-encoded target?\n",
        "1. What is the difference between `nn.BCELoss` and `nn.BCEWithLogitsLoss`?\n",
        "1. Why can't we use regular accuracy in a multi-label problem?\n",
        "1. When is it okay to tune a hyperparameter on the validation set?\n",
        "1. How is `y_range` implemented in fastai? (See if you can implement it yourself and test it without peeking!)\n",
        "1. What is a regression problem? What loss function should you use for such a problem?\n",
        "1. What do you need to do to make sure the fastai library applies the same data augmentation to your inputs images and your target point coordinates?"
      ]
    },
    {
      "cell_type": "markdown",
      "metadata": {
        "id": "Ot4_dBbX7kvw"
      },
      "source": [
        "### Further Research"
      ]
    },
    {
      "cell_type": "markdown",
      "metadata": {
        "id": "ERD5PFul7kvw"
      },
      "source": [
        "1. Read a tutorial about Pandas DataFrames and experiment with a few methods that look interesting to you. See the book's website for recommended tutorials.\n",
        "1. Retrain the bear classifier using multi-label classification. See if you can make it work effectively with images that don't contain any bears, including showing that information in the web application. Try an image with two different kinds of bears. Check whether the accuracy on the single-label dataset is impacted using multi-label classification."
      ]
    },
    {
      "cell_type": "code",
      "metadata": {
        "id": "UMrVNweW7kvw"
      },
      "source": [
        ""
      ],
      "execution_count": null,
      "outputs": []
    }
  ]
}